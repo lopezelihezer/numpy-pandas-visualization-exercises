{
 "cells": [
  {
   "cell_type": "code",
   "execution_count": 2,
   "id": "753122c8",
   "metadata": {},
   "outputs": [],
   "source": [
    "import pandas as pd\n",
    "import numpy as np\n",
    "import matplotlib.pyplot as plt\n",
    "import seaborn as sns"
   ]
  },
  {
   "cell_type": "code",
   "execution_count": null,
   "id": "3567df84",
   "metadata": {},
   "outputs": [],
   "source": [
    "iris = sns.load_dataset('iris')\n",
    "iris"
   ]
  },
  {
   "cell_type": "markdown",
   "id": "7333912b",
   "metadata": {},
   "source": [
    "1. What does the distribution of petal lengths look like?"
   ]
  },
  {
   "cell_type": "code",
   "execution_count": null,
   "id": "0d4d84f8",
   "metadata": {},
   "outputs": [],
   "source": [
    "sns.histplot(iris.petal_length)"
   ]
  },
  {
   "cell_type": "markdown",
   "id": "80a07490",
   "metadata": {},
   "source": [
    "2. Is there a correlation between petal length and petal width?"
   ]
  },
  {
   "cell_type": "code",
   "execution_count": null,
   "id": "7f62bc90",
   "metadata": {},
   "outputs": [],
   "source": [
    "sns.relplot(x='petal_length', y='petal_width', data=iris)\n",
    "# There a appears to be a positive correlation"
   ]
  },
  {
   "cell_type": "markdown",
   "id": "bb9655fb",
   "metadata": {},
   "source": [
    "3. Would it be reasonable to predict species based on sepal width and sepal length?"
   ]
  },
  {
   "cell_type": "code",
   "execution_count": null,
   "id": "df61b55c",
   "metadata": {},
   "outputs": [],
   "source": [
    "#no\n",
    "sns.boxplot(data=iris, y='sepal_length', x='sepal_width', hue='species')\n",
    "plt.title('Sepal l and w by Species')\n",
    "\n",
    "plt.tight_layout()\n",
    "plt.show()"
   ]
  },
  {
   "cell_type": "markdown",
   "id": "26bbb74c",
   "metadata": {},
   "source": [
    "4. Which features would be best used to predict species?"
   ]
  },
  {
   "cell_type": "code",
   "execution_count": null,
   "id": "3504eb70",
   "metadata": {},
   "outputs": [],
   "source": [
    "sns.relplot(x='petal_length', y='petal_width', data=iris, hue='species')\n",
    "# A combo of petal length and width"
   ]
  },
  {
   "cell_type": "markdown",
   "id": "5391c9ac",
   "metadata": {},
   "source": [
    "Using the lesson as an example, use seaborn's load_dataset function to load the anscombe data set. Use pandas to group the data by the dataset column, and calculate summary statistics for each dataset. What do you notice?\n",
    "\n",
    "Plot the x and y values from the anscombe data. Each dataset should be in a separate column."
   ]
  },
  {
   "cell_type": "code",
   "execution_count": null,
   "id": "f6f1d763",
   "metadata": {},
   "outputs": [],
   "source": [
    "anscombe = sns.load_dataset('anscombe')\n",
    "anscombe.head()"
   ]
  },
  {
   "cell_type": "code",
   "execution_count": null,
   "id": "168b6621",
   "metadata": {},
   "outputs": [],
   "source": [
    "dataset = anscombe.groupby(by='dataset')\n",
    "dataset.describe()"
   ]
  },
  {
   "cell_type": "code",
   "execution_count": null,
   "id": "b160c088",
   "metadata": {},
   "outputs": [],
   "source": [
    "sns.relplot(x='x', y='y', col='dataset', data=anscombe)"
   ]
  },
  {
   "cell_type": "markdown",
   "id": "cbe27d16",
   "metadata": {},
   "source": [
    "2. Load the InsectSprays dataset and read it's documentation. Create a boxplot that shows the effectiveness of the different insect sprays."
   ]
  },
  {
   "cell_type": "code",
   "execution_count": null,
   "id": "8581e41d",
   "metadata": {},
   "outputs": [],
   "source": [
    "from pydataset import data\n",
    "insect_sprays = data(\"InsectSprays\")\n",
    "insect_sprays"
   ]
  },
  {
   "cell_type": "code",
   "execution_count": null,
   "id": "4860d9e0",
   "metadata": {},
   "outputs": [],
   "source": [
    "sns.boxplot(data=insect_sprays, y='count', x='spray')\n",
    "plt.title('An insect_sprays boxplot')"
   ]
  },
  {
   "cell_type": "markdown",
   "id": "c09b9dd6",
   "metadata": {},
   "source": [
    "3. Load the swiss dataset and read it's documentation. Create visualizations to answer the following questions:"
   ]
  },
  {
   "cell_type": "code",
   "execution_count": null,
   "id": "1727e299",
   "metadata": {},
   "outputs": [],
   "source": [
    "from pydataset import data\n",
    "swiss = data(\"swiss\")\n",
    "swiss"
   ]
  },
  {
   "cell_type": "markdown",
   "id": "785b68ff",
   "metadata": {},
   "source": [
    "- Create an attribute named is_catholic that holds a boolean value of whether or not the province is Catholic. (Choose a cutoff point for what constitutes catholic)"
   ]
  },
  {
   "cell_type": "code",
   "execution_count": null,
   "id": "9902e73f",
   "metadata": {},
   "outputs": [],
   "source": [
    "swiss['is_catholic'] = swiss.Catholic > 50\n",
    "swiss"
   ]
  },
  {
   "cell_type": "markdown",
   "id": "be0ef4c4",
   "metadata": {},
   "source": [
    "- Does whether or not a province is Catholic influence fertility?"
   ]
  },
  {
   "cell_type": "code",
   "execution_count": null,
   "id": "3c3b7e53",
   "metadata": {},
   "outputs": [],
   "source": [
    "sns.relplot(x='Catholic', y='Fertility', hue='is_catholic', data=swiss)\n",
    "# No correlation"
   ]
  },
  {
   "cell_type": "markdown",
   "id": "98097c96",
   "metadata": {},
   "source": [
    "- What measure correlates most strongly with fertility?"
   ]
  },
  {
   "cell_type": "code",
   "execution_count": null,
   "id": "e054db86",
   "metadata": {},
   "outputs": [],
   "source": [
    "# Education has the highest correlation with an r value of -.66\n",
    "sns.relplot(x='Fertility', y='Education', data=swiss)"
   ]
  },
  {
   "cell_type": "code",
   "execution_count": null,
   "id": "5afd66a3",
   "metadata": {},
   "outputs": [],
   "source": [
    "sns.pairplot(swiss)"
   ]
  },
  {
   "cell_type": "code",
   "execution_count": null,
   "id": "2a5d8c1f",
   "metadata": {},
   "outputs": [],
   "source": [
    "r_list= []\n",
    "r = np.corrcoef(swiss.Fertility, swiss.Agriculture)\n",
    "r_list.append(r)\n",
    "r = np.corrcoef(swiss.Fertility, swiss.Examination)\n",
    "r_list.append(r)\n",
    "r = np.corrcoef(swiss.Fertility, swiss.Education)\n",
    "r_list.append(r)\n",
    "r = np.corrcoef(swiss.Fertility, swiss.Catholic)\n",
    "r_list.append(r)\n",
    "r = np.corrcoef(swiss.Fertility, swiss['Infant.Mortality'])\n",
    "r_list.append(r)\n",
    "r = np.corrcoef(swiss.Fertility, swiss.is_catholic)\n",
    "r_list.append(r)\n",
    "\n",
    "r_list\n",
    "    \n",
    "\n",
    "\n",
    "\n"
   ]
  },
  {
   "cell_type": "code",
   "execution_count": null,
   "id": "96b3611e",
   "metadata": {},
   "outputs": [],
   "source": [
    "m_list = []\n",
    "for n in swiss.columns:\n",
    "    m = max(swiss[n])\n",
    "    m_list.append(m)\n",
    "    \n",
    "m_list"
   ]
  },
  {
   "cell_type": "code",
   "execution_count": null,
   "id": "23011ed9",
   "metadata": {},
   "outputs": [],
   "source": [
    "max(swiss.Fertility)"
   ]
  },
  {
   "cell_type": "markdown",
   "id": "5c7f191e",
   "metadata": {},
   "source": [
    "4. Using the chipotle dataset from the previous exercise, create a bar chart that shows the 4 most popular items and the revenue produced by each."
   ]
  },
  {
   "cell_type": "code",
   "execution_count": 3,
   "id": "8ff01b2c",
   "metadata": {},
   "outputs": [
    {
     "data": {
      "text/html": [
       "<div>\n",
       "<style scoped>\n",
       "    .dataframe tbody tr th:only-of-type {\n",
       "        vertical-align: middle;\n",
       "    }\n",
       "\n",
       "    .dataframe tbody tr th {\n",
       "        vertical-align: top;\n",
       "    }\n",
       "\n",
       "    .dataframe thead th {\n",
       "        text-align: right;\n",
       "    }\n",
       "</style>\n",
       "<table border=\"1\" class=\"dataframe\">\n",
       "  <thead>\n",
       "    <tr style=\"text-align: right;\">\n",
       "      <th></th>\n",
       "      <th>id</th>\n",
       "      <th>order_id</th>\n",
       "      <th>quantity</th>\n",
       "      <th>item_name</th>\n",
       "      <th>choice_description</th>\n",
       "      <th>item_price</th>\n",
       "    </tr>\n",
       "  </thead>\n",
       "  <tbody>\n",
       "    <tr>\n",
       "      <th>0</th>\n",
       "      <td>1</td>\n",
       "      <td>1</td>\n",
       "      <td>1</td>\n",
       "      <td>Chips and Fresh Tomato Salsa</td>\n",
       "      <td>nan</td>\n",
       "      <td>$2.39</td>\n",
       "    </tr>\n",
       "    <tr>\n",
       "      <th>1</th>\n",
       "      <td>2</td>\n",
       "      <td>1</td>\n",
       "      <td>1</td>\n",
       "      <td>Izze</td>\n",
       "      <td>[Clementine]</td>\n",
       "      <td>$3.39</td>\n",
       "    </tr>\n",
       "    <tr>\n",
       "      <th>2</th>\n",
       "      <td>3</td>\n",
       "      <td>1</td>\n",
       "      <td>1</td>\n",
       "      <td>Nantucket Nectar</td>\n",
       "      <td>[Apple]</td>\n",
       "      <td>$3.39</td>\n",
       "    </tr>\n",
       "    <tr>\n",
       "      <th>3</th>\n",
       "      <td>4</td>\n",
       "      <td>1</td>\n",
       "      <td>1</td>\n",
       "      <td>Chips and Tomatillo-Green Chili Salsa</td>\n",
       "      <td>nan</td>\n",
       "      <td>$2.39</td>\n",
       "    </tr>\n",
       "    <tr>\n",
       "      <th>4</th>\n",
       "      <td>5</td>\n",
       "      <td>2</td>\n",
       "      <td>2</td>\n",
       "      <td>Chicken Bowl</td>\n",
       "      <td>[Tomatillo-Red Chili Salsa (Hot), [Black Beans...</td>\n",
       "      <td>$16.98</td>\n",
       "    </tr>\n",
       "    <tr>\n",
       "      <th>...</th>\n",
       "      <td>...</td>\n",
       "      <td>...</td>\n",
       "      <td>...</td>\n",
       "      <td>...</td>\n",
       "      <td>...</td>\n",
       "      <td>...</td>\n",
       "    </tr>\n",
       "    <tr>\n",
       "      <th>4617</th>\n",
       "      <td>4618</td>\n",
       "      <td>1833</td>\n",
       "      <td>1</td>\n",
       "      <td>Steak Burrito</td>\n",
       "      <td>[Fresh Tomato Salsa, [Rice, Black Beans, Sour ...</td>\n",
       "      <td>$11.75</td>\n",
       "    </tr>\n",
       "    <tr>\n",
       "      <th>4618</th>\n",
       "      <td>4619</td>\n",
       "      <td>1833</td>\n",
       "      <td>1</td>\n",
       "      <td>Steak Burrito</td>\n",
       "      <td>[Fresh Tomato Salsa, [Rice, Sour Cream, Cheese...</td>\n",
       "      <td>$11.75</td>\n",
       "    </tr>\n",
       "    <tr>\n",
       "      <th>4619</th>\n",
       "      <td>4620</td>\n",
       "      <td>1834</td>\n",
       "      <td>1</td>\n",
       "      <td>Chicken Salad Bowl</td>\n",
       "      <td>[Fresh Tomato Salsa, [Fajita Vegetables, Pinto...</td>\n",
       "      <td>$11.25</td>\n",
       "    </tr>\n",
       "    <tr>\n",
       "      <th>4620</th>\n",
       "      <td>4621</td>\n",
       "      <td>1834</td>\n",
       "      <td>1</td>\n",
       "      <td>Chicken Salad Bowl</td>\n",
       "      <td>[Fresh Tomato Salsa, [Fajita Vegetables, Lettu...</td>\n",
       "      <td>$8.75</td>\n",
       "    </tr>\n",
       "    <tr>\n",
       "      <th>4621</th>\n",
       "      <td>4622</td>\n",
       "      <td>1834</td>\n",
       "      <td>1</td>\n",
       "      <td>Chicken Salad Bowl</td>\n",
       "      <td>[Fresh Tomato Salsa, [Fajita Vegetables, Pinto...</td>\n",
       "      <td>$8.75</td>\n",
       "    </tr>\n",
       "  </tbody>\n",
       "</table>\n",
       "<p>4622 rows × 6 columns</p>\n",
       "</div>"
      ],
      "text/plain": [
       "        id  order_id  quantity                              item_name  \\\n",
       "0        1         1         1           Chips and Fresh Tomato Salsa   \n",
       "1        2         1         1                                   Izze   \n",
       "2        3         1         1                       Nantucket Nectar   \n",
       "3        4         1         1  Chips and Tomatillo-Green Chili Salsa   \n",
       "4        5         2         2                           Chicken Bowl   \n",
       "...    ...       ...       ...                                    ...   \n",
       "4617  4618      1833         1                          Steak Burrito   \n",
       "4618  4619      1833         1                          Steak Burrito   \n",
       "4619  4620      1834         1                     Chicken Salad Bowl   \n",
       "4620  4621      1834         1                     Chicken Salad Bowl   \n",
       "4621  4622      1834         1                     Chicken Salad Bowl   \n",
       "\n",
       "                                     choice_description item_price  \n",
       "0                                                   nan     $2.39   \n",
       "1                                          [Clementine]     $3.39   \n",
       "2                                               [Apple]     $3.39   \n",
       "3                                                   nan     $2.39   \n",
       "4     [Tomatillo-Red Chili Salsa (Hot), [Black Beans...    $16.98   \n",
       "...                                                 ...        ...  \n",
       "4617  [Fresh Tomato Salsa, [Rice, Black Beans, Sour ...    $11.75   \n",
       "4618  [Fresh Tomato Salsa, [Rice, Sour Cream, Cheese...    $11.75   \n",
       "4619  [Fresh Tomato Salsa, [Fajita Vegetables, Pinto...    $11.25   \n",
       "4620  [Fresh Tomato Salsa, [Fajita Vegetables, Lettu...     $8.75   \n",
       "4621  [Fresh Tomato Salsa, [Fajita Vegetables, Pinto...     $8.75   \n",
       "\n",
       "[4622 rows x 6 columns]"
      ]
     },
     "execution_count": 3,
     "metadata": {},
     "output_type": "execute_result"
    }
   ],
   "source": [
    "from env import host, user, password\n",
    "\n",
    "def get_db_url(database):\n",
    "    url = f'mysql+pymysql://{user}:{password}@{host}/{database}'\n",
    "    return url\n",
    "\n",
    "orders = pd.read_sql('Select * FROM orders', get_db_url('chipotle'))\n",
    "orders"
   ]
  },
  {
   "cell_type": "code",
   "execution_count": 4,
   "id": "60d0cc1d",
   "metadata": {},
   "outputs": [],
   "source": [
    "items_by_quantity = pd.crosstab(orders.item_name, orders.quantity, margins=True)\n",
    "items_by_quantity.sort_values(by='All', ascending=False).head()\n",
    "top_4 = ['Chicken Bowl', 'Chicken Burrito', 'Chips and Guacamole', 'Steak Burrito']"
   ]
  },
  {
   "cell_type": "code",
   "execution_count": 5,
   "id": "98bce45b",
   "metadata": {},
   "outputs": [
    {
     "data": {
      "text/plain": [
       "item_name\n",
       "6 Pack Soft Drink                         356.95\n",
       "Barbacoa Bowl                             672.36\n",
       "Barbacoa Burrito                          894.75\n",
       "Barbacoa Crispy Tacos                     120.21\n",
       "Barbacoa Salad Bowl                       106.40\n",
       "Barbacoa Soft Tacos                       250.46\n",
       "Bottled Water                             302.56\n",
       "Bowl                                       29.60\n",
       "Burrito                                    44.40\n",
       "Canned Soda                               137.34\n",
       "Canned Soft Drink                         438.75\n",
       "Carnitas Bowl                             736.71\n",
       "Carnitas Burrito                          597.83\n",
       "Carnitas Crispy Tacos                      77.96\n",
       "Carnitas Salad                              8.99\n",
       "Carnitas Salad Bowl                        66.34\n",
       "Carnitas Soft Tacos                       375.94\n",
       "Chicken Bowl                             7342.73\n",
       "Chicken Burrito                          5575.82\n",
       "Chicken Crispy Tacos                      472.13\n",
       "Chicken Salad                              81.09\n",
       "Chicken Salad Bowl                       1228.75\n",
       "Chicken Soft Tacos                       1108.09\n",
       "Chips                                     494.34\n",
       "Chips and Fresh Tomato Salsa              361.36\n",
       "Chips and Guacamole                      2201.04\n",
       "Chips and Mild Fresh Tomato Salsa           3.00\n",
       "Chips and Roasted Chili Corn Salsa         67.85\n",
       "Chips and Roasted Chili-Corn Salsa         43.02\n",
       "Chips and Tomatillo Green Chili Salsa     132.75\n",
       "Chips and Tomatillo Red Chili Salsa       147.50\n",
       "Chips and Tomatillo-Green Chili Salsa      78.87\n",
       "Chips and Tomatillo-Red Chili Salsa        59.75\n",
       "Crispy Tacos                               14.80\n",
       "Izze                                       67.80\n",
       "Nantucket Nectar                           98.31\n",
       "Salad                                      14.80\n",
       "Side of Chips                             185.90\n",
       "Steak Bowl                               2260.19\n",
       "Steak Burrito                            3851.43\n",
       "Steak Crispy Tacos                        357.34\n",
       "Steak Salad                                35.66\n",
       "Steak Salad Bowl                          343.59\n",
       "Steak Soft Tacos                          536.05\n",
       "Veggie Bowl                               867.99\n",
       "Veggie Burrito                            934.77\n",
       "Veggie Crispy Tacos                         8.49\n",
       "Veggie Salad                               50.94\n",
       "Veggie Salad Bowl                         182.50\n",
       "Veggie Soft Tacos                          73.96\n",
       "Name: item_price, dtype: float64"
      ]
     },
     "execution_count": 5,
     "metadata": {},
     "output_type": "execute_result"
    }
   ],
   "source": [
    "def string_to_float(b):\n",
    "    b = b.replace('$', '') # Replaces '$' with an empty space ''.\n",
    "    b = float(b)\n",
    "    return b\n",
    "\n",
    "orders['item_price'] = orders.item_price.apply(string_to_float)\n",
    "total_price = orders.groupby('item_name').item_price.sum()\n",
    "total_price"
   ]
  },
  {
   "cell_type": "code",
   "execution_count": 14,
   "id": "20ce2113",
   "metadata": {},
   "outputs": [
    {
     "name": "stdout",
     "output_type": "stream",
     "text": [
      "The price for a(n) Chicken Bowl is 7342.73\n",
      "The price for a(n) Chicken Burrito is 5575.82\n",
      "The price for a(n) Chips and Guacamole is 2201.04\n",
      "The price for a(n) Steak Burrito is 3851.43\n"
     ]
    },
    {
     "data": {
      "text/plain": [
       "[7342.73, 5575.82, 2201.04, 3851.43]"
      ]
     },
     "execution_count": 14,
     "metadata": {},
     "output_type": "execute_result"
    }
   ],
   "source": [
    "x_list = []\n",
    "for n in top_4:\n",
    "    x = round(total_price[n], 2)\n",
    "    x_list.append(x)\n",
    "    print(f'The price for a(n) {n} is {x}')\n",
    "    \n",
    "x_list\n",
    "    "
   ]
  },
  {
   "cell_type": "code",
   "execution_count": 22,
   "id": "ab21b0ca",
   "metadata": {},
   "outputs": [
    {
     "data": {
      "text/html": [
       "<div>\n",
       "<style scoped>\n",
       "    .dataframe tbody tr th:only-of-type {\n",
       "        vertical-align: middle;\n",
       "    }\n",
       "\n",
       "    .dataframe tbody tr th {\n",
       "        vertical-align: top;\n",
       "    }\n",
       "\n",
       "    .dataframe thead th {\n",
       "        text-align: right;\n",
       "    }\n",
       "</style>\n",
       "<table border=\"1\" class=\"dataframe\">\n",
       "  <thead>\n",
       "    <tr style=\"text-align: right;\">\n",
       "      <th></th>\n",
       "      <th>0</th>\n",
       "    </tr>\n",
       "  </thead>\n",
       "  <tbody>\n",
       "    <tr>\n",
       "      <th>Chicken Bowl</th>\n",
       "      <td>7342.73</td>\n",
       "    </tr>\n",
       "    <tr>\n",
       "      <th>Chicken Burrito</th>\n",
       "      <td>5575.82</td>\n",
       "    </tr>\n",
       "    <tr>\n",
       "      <th>Chips and Guacamole</th>\n",
       "      <td>2201.04</td>\n",
       "    </tr>\n",
       "    <tr>\n",
       "      <th>Steak Burrito</th>\n",
       "      <td>3851.43</td>\n",
       "    </tr>\n",
       "  </tbody>\n",
       "</table>\n",
       "</div>"
      ],
      "text/plain": [
       "                           0\n",
       "Chicken Bowl         7342.73\n",
       "Chicken Burrito      5575.82\n",
       "Chips and Guacamole  2201.04\n",
       "Steak Burrito        3851.43"
      ]
     },
     "execution_count": 22,
     "metadata": {},
     "output_type": "execute_result"
    }
   ],
   "source": [
    "most_popular_items = pd.DataFrame(x_list, index=top_4)\n",
    "most_popular_items"
   ]
  },
  {
   "cell_type": "code",
   "execution_count": 24,
   "id": "bc5d27d7",
   "metadata": {},
   "outputs": [
    {
     "name": "stderr",
     "output_type": "stream",
     "text": [
      "/opt/homebrew/anaconda3/lib/python3.8/site-packages/seaborn/_decorators.py:36: FutureWarning: Pass the following variable as a keyword arg: x. From version 0.12, the only valid positional argument will be `data`, and passing other arguments without an explicit keyword will result in an error or misinterpretation.\n",
      "  warnings.warn(\n"
     ]
    },
    {
     "ename": "ValueError",
     "evalue": "The truth value of a Series is ambiguous. Use a.empty, a.bool(), a.item(), a.any() or a.all().",
     "output_type": "error",
     "traceback": [
      "\u001b[0;31m---------------------------------------------------------------------------\u001b[0m",
      "\u001b[0;31mValueError\u001b[0m                                Traceback (most recent call last)",
      "\u001b[0;32m<ipython-input-24-ba37d9d9d667>\u001b[0m in \u001b[0;36m<module>\u001b[0;34m\u001b[0m\n\u001b[0;32m----> 1\u001b[0;31m \u001b[0msns\u001b[0m\u001b[0;34m.\u001b[0m\u001b[0mbarplot\u001b[0m\u001b[0;34m(\u001b[0m\u001b[0mmost_popular_items\u001b[0m\u001b[0;34m)\u001b[0m\u001b[0;34m\u001b[0m\u001b[0;34m\u001b[0m\u001b[0m\n\u001b[0m\u001b[1;32m      2\u001b[0m \u001b[0mplt\u001b[0m\u001b[0;34m.\u001b[0m\u001b[0mshow\u001b[0m\u001b[0;34m(\u001b[0m\u001b[0;34m)\u001b[0m\u001b[0;34m\u001b[0m\u001b[0;34m\u001b[0m\u001b[0m\n",
      "\u001b[0;32m/opt/homebrew/anaconda3/lib/python3.8/site-packages/seaborn/_decorators.py\u001b[0m in \u001b[0;36minner_f\u001b[0;34m(*args, **kwargs)\u001b[0m\n\u001b[1;32m     44\u001b[0m             )\n\u001b[1;32m     45\u001b[0m         \u001b[0mkwargs\u001b[0m\u001b[0;34m.\u001b[0m\u001b[0mupdate\u001b[0m\u001b[0;34m(\u001b[0m\u001b[0;34m{\u001b[0m\u001b[0mk\u001b[0m\u001b[0;34m:\u001b[0m \u001b[0marg\u001b[0m \u001b[0;32mfor\u001b[0m \u001b[0mk\u001b[0m\u001b[0;34m,\u001b[0m \u001b[0marg\u001b[0m \u001b[0;32min\u001b[0m \u001b[0mzip\u001b[0m\u001b[0;34m(\u001b[0m\u001b[0msig\u001b[0m\u001b[0;34m.\u001b[0m\u001b[0mparameters\u001b[0m\u001b[0;34m,\u001b[0m \u001b[0margs\u001b[0m\u001b[0;34m)\u001b[0m\u001b[0;34m}\u001b[0m\u001b[0;34m)\u001b[0m\u001b[0;34m\u001b[0m\u001b[0;34m\u001b[0m\u001b[0m\n\u001b[0;32m---> 46\u001b[0;31m         \u001b[0;32mreturn\u001b[0m \u001b[0mf\u001b[0m\u001b[0;34m(\u001b[0m\u001b[0;34m**\u001b[0m\u001b[0mkwargs\u001b[0m\u001b[0;34m)\u001b[0m\u001b[0;34m\u001b[0m\u001b[0;34m\u001b[0m\u001b[0m\n\u001b[0m\u001b[1;32m     47\u001b[0m     \u001b[0;32mreturn\u001b[0m \u001b[0minner_f\u001b[0m\u001b[0;34m\u001b[0m\u001b[0;34m\u001b[0m\u001b[0m\n\u001b[1;32m     48\u001b[0m \u001b[0;34m\u001b[0m\u001b[0m\n",
      "\u001b[0;32m/opt/homebrew/anaconda3/lib/python3.8/site-packages/seaborn/categorical.py\u001b[0m in \u001b[0;36mbarplot\u001b[0;34m(x, y, hue, data, order, hue_order, estimator, ci, n_boot, units, seed, orient, color, palette, saturation, errcolor, errwidth, capsize, dodge, ax, **kwargs)\u001b[0m\n\u001b[1;32m   3177\u001b[0m ):\n\u001b[1;32m   3178\u001b[0m \u001b[0;34m\u001b[0m\u001b[0m\n\u001b[0;32m-> 3179\u001b[0;31m     plotter = _BarPlotter(x, y, hue, data, order, hue_order,\n\u001b[0m\u001b[1;32m   3180\u001b[0m                           \u001b[0mestimator\u001b[0m\u001b[0;34m,\u001b[0m \u001b[0mci\u001b[0m\u001b[0;34m,\u001b[0m \u001b[0mn_boot\u001b[0m\u001b[0;34m,\u001b[0m \u001b[0munits\u001b[0m\u001b[0;34m,\u001b[0m \u001b[0mseed\u001b[0m\u001b[0;34m,\u001b[0m\u001b[0;34m\u001b[0m\u001b[0;34m\u001b[0m\u001b[0m\n\u001b[1;32m   3181\u001b[0m                           \u001b[0morient\u001b[0m\u001b[0;34m,\u001b[0m \u001b[0mcolor\u001b[0m\u001b[0;34m,\u001b[0m \u001b[0mpalette\u001b[0m\u001b[0;34m,\u001b[0m \u001b[0msaturation\u001b[0m\u001b[0;34m,\u001b[0m\u001b[0;34m\u001b[0m\u001b[0;34m\u001b[0m\u001b[0m\n",
      "\u001b[0;32m/opt/homebrew/anaconda3/lib/python3.8/site-packages/seaborn/categorical.py\u001b[0m in \u001b[0;36m__init__\u001b[0;34m(self, x, y, hue, data, order, hue_order, estimator, ci, n_boot, units, seed, orient, color, palette, saturation, errcolor, errwidth, capsize, dodge)\u001b[0m\n\u001b[1;32m   1582\u001b[0m                  errwidth, capsize, dodge):\n\u001b[1;32m   1583\u001b[0m         \u001b[0;34m\"\"\"Initialize the plotter.\"\"\"\u001b[0m\u001b[0;34m\u001b[0m\u001b[0;34m\u001b[0m\u001b[0m\n\u001b[0;32m-> 1584\u001b[0;31m         self.establish_variables(x, y, hue, data, orient,\n\u001b[0m\u001b[1;32m   1585\u001b[0m                                  order, hue_order, units)\n\u001b[1;32m   1586\u001b[0m         \u001b[0mself\u001b[0m\u001b[0;34m.\u001b[0m\u001b[0mestablish_colors\u001b[0m\u001b[0;34m(\u001b[0m\u001b[0mcolor\u001b[0m\u001b[0;34m,\u001b[0m \u001b[0mpalette\u001b[0m\u001b[0;34m,\u001b[0m \u001b[0msaturation\u001b[0m\u001b[0;34m)\u001b[0m\u001b[0;34m\u001b[0m\u001b[0;34m\u001b[0m\u001b[0m\n",
      "\u001b[0;32m/opt/homebrew/anaconda3/lib/python3.8/site-packages/seaborn/categorical.py\u001b[0m in \u001b[0;36mestablish_variables\u001b[0;34m(self, x, y, hue, data, orient, order, hue_order, units)\u001b[0m\n\u001b[1;32m    154\u001b[0m \u001b[0;34m\u001b[0m\u001b[0m\n\u001b[1;32m    155\u001b[0m             \u001b[0;31m# Figure out the plotting orientation\u001b[0m\u001b[0;34m\u001b[0m\u001b[0;34m\u001b[0m\u001b[0;34m\u001b[0m\u001b[0m\n\u001b[0;32m--> 156\u001b[0;31m             orient = infer_orient(\n\u001b[0m\u001b[1;32m    157\u001b[0m                 \u001b[0mx\u001b[0m\u001b[0;34m,\u001b[0m \u001b[0my\u001b[0m\u001b[0;34m,\u001b[0m \u001b[0morient\u001b[0m\u001b[0;34m,\u001b[0m \u001b[0mrequire_numeric\u001b[0m\u001b[0;34m=\u001b[0m\u001b[0mself\u001b[0m\u001b[0;34m.\u001b[0m\u001b[0mrequire_numeric\u001b[0m\u001b[0;34m\u001b[0m\u001b[0;34m\u001b[0m\u001b[0m\n\u001b[1;32m    158\u001b[0m             )\n",
      "\u001b[0;32m/opt/homebrew/anaconda3/lib/python3.8/site-packages/seaborn/_core.py\u001b[0m in \u001b[0;36minfer_orient\u001b[0;34m(x, y, orient, require_numeric)\u001b[0m\n\u001b[1;32m   1302\u001b[0m     \"\"\"\n\u001b[1;32m   1303\u001b[0m \u001b[0;34m\u001b[0m\u001b[0m\n\u001b[0;32m-> 1304\u001b[0;31m     \u001b[0mx_type\u001b[0m \u001b[0;34m=\u001b[0m \u001b[0;32mNone\u001b[0m \u001b[0;32mif\u001b[0m \u001b[0mx\u001b[0m \u001b[0;32mis\u001b[0m \u001b[0;32mNone\u001b[0m \u001b[0;32melse\u001b[0m \u001b[0mvariable_type\u001b[0m\u001b[0;34m(\u001b[0m\u001b[0mx\u001b[0m\u001b[0;34m)\u001b[0m\u001b[0;34m\u001b[0m\u001b[0;34m\u001b[0m\u001b[0m\n\u001b[0m\u001b[1;32m   1305\u001b[0m     \u001b[0my_type\u001b[0m \u001b[0;34m=\u001b[0m \u001b[0;32mNone\u001b[0m \u001b[0;32mif\u001b[0m \u001b[0my\u001b[0m \u001b[0;32mis\u001b[0m \u001b[0;32mNone\u001b[0m \u001b[0;32melse\u001b[0m \u001b[0mvariable_type\u001b[0m\u001b[0;34m(\u001b[0m\u001b[0my\u001b[0m\u001b[0;34m)\u001b[0m\u001b[0;34m\u001b[0m\u001b[0;34m\u001b[0m\u001b[0m\n\u001b[1;32m   1306\u001b[0m \u001b[0;34m\u001b[0m\u001b[0m\n",
      "\u001b[0;32m/opt/homebrew/anaconda3/lib/python3.8/site-packages/seaborn/_core.py\u001b[0m in \u001b[0;36mvariable_type\u001b[0;34m(vector, boolean_type)\u001b[0m\n\u001b[1;32m   1220\u001b[0m \u001b[0;34m\u001b[0m\u001b[0m\n\u001b[1;32m   1221\u001b[0m     \u001b[0;31m# Special-case all-na data, which is always \"numeric\"\u001b[0m\u001b[0;34m\u001b[0m\u001b[0;34m\u001b[0m\u001b[0;34m\u001b[0m\u001b[0m\n\u001b[0;32m-> 1222\u001b[0;31m     \u001b[0;32mif\u001b[0m \u001b[0mpd\u001b[0m\u001b[0;34m.\u001b[0m\u001b[0misna\u001b[0m\u001b[0;34m(\u001b[0m\u001b[0mvector\u001b[0m\u001b[0;34m)\u001b[0m\u001b[0;34m.\u001b[0m\u001b[0mall\u001b[0m\u001b[0;34m(\u001b[0m\u001b[0;34m)\u001b[0m\u001b[0;34m:\u001b[0m\u001b[0;34m\u001b[0m\u001b[0;34m\u001b[0m\u001b[0m\n\u001b[0m\u001b[1;32m   1223\u001b[0m         \u001b[0;32mreturn\u001b[0m \u001b[0;34m\"numeric\"\u001b[0m\u001b[0;34m\u001b[0m\u001b[0;34m\u001b[0m\u001b[0m\n\u001b[1;32m   1224\u001b[0m \u001b[0;34m\u001b[0m\u001b[0m\n",
      "\u001b[0;32m/opt/homebrew/anaconda3/lib/python3.8/site-packages/pandas/core/generic.py\u001b[0m in \u001b[0;36m__nonzero__\u001b[0;34m(self)\u001b[0m\n\u001b[1;32m   1440\u001b[0m     \u001b[0;34m@\u001b[0m\u001b[0mfinal\u001b[0m\u001b[0;34m\u001b[0m\u001b[0;34m\u001b[0m\u001b[0m\n\u001b[1;32m   1441\u001b[0m     \u001b[0;32mdef\u001b[0m \u001b[0m__nonzero__\u001b[0m\u001b[0;34m(\u001b[0m\u001b[0mself\u001b[0m\u001b[0;34m)\u001b[0m\u001b[0;34m:\u001b[0m\u001b[0;34m\u001b[0m\u001b[0;34m\u001b[0m\u001b[0m\n\u001b[0;32m-> 1442\u001b[0;31m         raise ValueError(\n\u001b[0m\u001b[1;32m   1443\u001b[0m             \u001b[0;34mf\"The truth value of a {type(self).__name__} is ambiguous. \"\u001b[0m\u001b[0;34m\u001b[0m\u001b[0;34m\u001b[0m\u001b[0m\n\u001b[1;32m   1444\u001b[0m             \u001b[0;34m\"Use a.empty, a.bool(), a.item(), a.any() or a.all().\"\u001b[0m\u001b[0;34m\u001b[0m\u001b[0;34m\u001b[0m\u001b[0m\n",
      "\u001b[0;31mValueError\u001b[0m: The truth value of a Series is ambiguous. Use a.empty, a.bool(), a.item(), a.any() or a.all()."
     ]
    }
   ],
   "source": [
    "sns.barplot(most_popular_items)\n",
    "plt.show()\n",
    "\n"
   ]
  },
  {
   "cell_type": "code",
   "execution_count": null,
   "id": "7c2cf7c0",
   "metadata": {},
   "outputs": [],
   "source": []
  }
 ],
 "metadata": {
  "kernelspec": {
   "display_name": "Python 3",
   "language": "python",
   "name": "python3"
  },
  "language_info": {
   "codemirror_mode": {
    "name": "ipython",
    "version": 3
   },
   "file_extension": ".py",
   "mimetype": "text/x-python",
   "name": "python",
   "nbconvert_exporter": "python",
   "pygments_lexer": "ipython3",
   "version": "3.8.8"
  }
 },
 "nbformat": 4,
 "nbformat_minor": 5
}
