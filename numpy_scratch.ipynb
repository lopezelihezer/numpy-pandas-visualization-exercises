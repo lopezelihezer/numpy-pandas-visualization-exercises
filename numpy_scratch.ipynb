{
 "cells": [
  {
   "cell_type": "code",
   "execution_count": 1,
   "id": "41da9665",
   "metadata": {},
   "outputs": [],
   "source": [
    "import numpy as np"
   ]
  },
  {
   "cell_type": "code",
   "execution_count": 2,
   "id": "9cf30004",
   "metadata": {},
   "outputs": [],
   "source": [
    "a = np.array([4, 10, 12, 23, -2, -1, 0, 0, 0, -6, 3, -7])\n"
   ]
  },
  {
   "cell_type": "code",
   "execution_count": 9,
   "id": "ee5e4f4b",
   "metadata": {},
   "outputs": [
    {
     "data": {
      "text/plain": [
       "4"
      ]
     },
     "execution_count": 9,
     "metadata": {},
     "output_type": "execute_result"
    }
   ],
   "source": [
    "# 1. How many negative numbers are there?\n",
    "len(a[a<0])\n"
   ]
  },
  {
   "cell_type": "code",
   "execution_count": 10,
   "id": "f3c49380",
   "metadata": {},
   "outputs": [
    {
     "data": {
      "text/plain": [
       "5"
      ]
     },
     "execution_count": 10,
     "metadata": {},
     "output_type": "execute_result"
    }
   ],
   "source": [
    "# 2. How many positive numbers are there?\n",
    "len(a[a>0])"
   ]
  },
  {
   "cell_type": "code",
   "execution_count": 11,
   "id": "4d8013fa",
   "metadata": {},
   "outputs": [
    {
     "data": {
      "text/plain": [
       "8"
      ]
     },
     "execution_count": 11,
     "metadata": {},
     "output_type": "execute_result"
    }
   ],
   "source": [
    "# 3. How many even positive numbers are there?\n",
    "len(a[a%2==0])"
   ]
  },
  {
   "cell_type": "code",
   "execution_count": 13,
   "id": "f1570c44",
   "metadata": {},
   "outputs": [
    {
     "data": {
      "text/plain": [
       "10"
      ]
     },
     "execution_count": 13,
     "metadata": {},
     "output_type": "execute_result"
    }
   ],
   "source": [
    "# 4. If you were to add 3 to each data point, how many positive numbers would there be?\n",
    "b = a +3\n",
    "len(b[b>0])"
   ]
  },
  {
   "cell_type": "code",
   "execution_count": 18,
   "id": "ff0a1d96",
   "metadata": {},
   "outputs": [
    {
     "name": "stdout",
     "output_type": "stream",
     "text": [
      "74.0\n",
      "144.02\n"
     ]
    }
   ],
   "source": [
    "# 5. If you squared each number, what would the new mean and standard deviation be?\n",
    "b = a**2\n",
    "new_mean = b.mean()\n",
    "new_std = b.std()\n",
    "print(new_mean)\n",
    "print(round(new_std, 2))"
   ]
  },
  {
   "cell_type": "code",
   "execution_count": 21,
   "id": "18b2479c",
   "metadata": {},
   "outputs": [
    {
     "data": {
      "text/plain": [
       "0.0"
      ]
     },
     "execution_count": 21,
     "metadata": {},
     "output_type": "execute_result"
    }
   ],
   "source": [
    "# 6. A common statiscal operation on a dataset is centering. \n",
    "# This means to adjust the data such that the mean of the data is 0.\n",
    "# This is done by subtracting the mean from each data point. Center the data set. \n",
    "mean = a.mean()\n",
    "b = a - mean\n",
    "b.mean()\n"
   ]
  },
  {
   "cell_type": "code",
   "execution_count": 37,
   "id": "313a154f",
   "metadata": {},
   "outputs": [
    {
     "name": "stdout",
     "output_type": "stream",
     "text": [
      "[ 0.12403473  0.86824314  1.11631261  2.48069469 -0.62017367 -0.49613894\n",
      " -0.3721042  -0.3721042  -0.3721042  -1.11631261  0.         -1.24034735]\n"
     ]
    }
   ],
   "source": [
    "# 7. Calculate the z-score for each data point. Recall that the z-score is given by: Z = (x-Ü)/Ó\n",
    "# Z = (num - mean)/std\n",
    "a_std = a.std()\n",
    "Z = (a - mean) / a_std\n",
    "# print(a)\n",
    "print(Z)\n",
    "# print(mean)\n",
    "# print(a_std)\n"
   ]
  },
  {
   "cell_type": "code",
   "execution_count": 32,
   "id": "9be11a28",
   "metadata": {},
   "outputs": [
    {
     "ename": "NameError",
     "evalue": "name 'stdev' is not defined",
     "output_type": "error",
     "traceback": [
      "\u001b[0;31m---------------------------------------------------------------------------\u001b[0m",
      "\u001b[0;31mNameError\u001b[0m                                 Traceback (most recent call last)",
      "\u001b[0;32m<ipython-input-32-9c8300d30252>\u001b[0m in \u001b[0;36m<module>\u001b[0;34m\u001b[0m\n\u001b[1;32m      1\u001b[0m \u001b[0;32mimport\u001b[0m \u001b[0mstatistics\u001b[0m\u001b[0;34m\u001b[0m\u001b[0;34m\u001b[0m\u001b[0m\n\u001b[0;32m----> 2\u001b[0;31m \u001b[0mstdev\u001b[0m\u001b[0;34m(\u001b[0m\u001b[0;36m4\u001b[0m\u001b[0;34m,\u001b[0m \u001b[0;36m10\u001b[0m\u001b[0;34m,\u001b[0m \u001b[0;36m12\u001b[0m\u001b[0;34m,\u001b[0m \u001b[0;36m23\u001b[0m\u001b[0;34m,\u001b[0m \u001b[0;34m-\u001b[0m\u001b[0;36m2\u001b[0m\u001b[0;34m,\u001b[0m \u001b[0;34m-\u001b[0m\u001b[0;36m1\u001b[0m\u001b[0;34m,\u001b[0m \u001b[0;36m0\u001b[0m\u001b[0;34m,\u001b[0m \u001b[0;36m0\u001b[0m\u001b[0;34m,\u001b[0m \u001b[0;36m0\u001b[0m\u001b[0;34m,\u001b[0m \u001b[0;34m-\u001b[0m\u001b[0;36m6\u001b[0m\u001b[0;34m,\u001b[0m \u001b[0;36m3\u001b[0m\u001b[0;34m,\u001b[0m \u001b[0;34m-\u001b[0m\u001b[0;36m7\u001b[0m\u001b[0;34m)\u001b[0m\u001b[0;34m\u001b[0m\u001b[0;34m\u001b[0m\u001b[0m\n\u001b[0m",
      "\u001b[0;31mNameError\u001b[0m: name 'stdev' is not defined"
     ]
    }
   ],
   "source": [
    "# Copy the setup and exercise directions from More Numpy Practice into your 'numpy_exercises.py' and add your solutions."
   ]
  },
  {
   "cell_type": "code",
   "execution_count": null,
   "id": "73c34651",
   "metadata": {},
   "outputs": [],
   "source": []
  }
 ],
 "metadata": {
  "kernelspec": {
   "display_name": "Python 3",
   "language": "python",
   "name": "python3"
  },
  "language_info": {
   "codemirror_mode": {
    "name": "ipython",
    "version": 3
   },
   "file_extension": ".py",
   "mimetype": "text/x-python",
   "name": "python",
   "nbconvert_exporter": "python",
   "pygments_lexer": "ipython3",
   "version": "3.8.8"
  }
 },
 "nbformat": 4,
 "nbformat_minor": 5
}
