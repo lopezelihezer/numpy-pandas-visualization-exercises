{
 "cells": [
  {
   "cell_type": "code",
   "execution_count": 1,
   "id": "37d75795",
   "metadata": {},
   "outputs": [],
   "source": [
    "import numpy as np\n",
    "import pandas as pd\n",
    "\n",
    "import matplotlib.pyplot as plt"
   ]
  },
  {
   "cell_type": "code",
   "execution_count": 5,
   "id": "ce7e2bf7",
   "metadata": {},
   "outputs": [
    {
     "data": {
      "text/plain": [
       "0                 kiwi\n",
       "1                mango\n",
       "2           strawberry\n",
       "3            pineapple\n",
       "4           gala apple\n",
       "5     honeycrisp apple\n",
       "6               tomato\n",
       "7           watermelon\n",
       "8             honeydew\n",
       "9                 kiwi\n",
       "10                kiwi\n",
       "11                kiwi\n",
       "12               mango\n",
       "13           blueberry\n",
       "14          blackberry\n",
       "15          gooseberry\n",
       "16              papaya\n",
       "dtype: object"
      ]
     },
     "execution_count": 5,
     "metadata": {},
     "output_type": "execute_result"
    }
   ],
   "source": [
    "fruits = pd.Series([\"kiwi\", \"mango\", \"strawberry\", \"pineapple\", \"gala apple\", \"honeycrisp apple\", \"tomato\", \"watermelon\", \"honeydew\", \"kiwi\", \"kiwi\", \"kiwi\", \"mango\", \"blueberry\", \"blackberry\", \"gooseberry\", \"papaya\"])\n",
    "type(fruits)\n",
    "fruits"
   ]
  },
  {
   "cell_type": "code",
   "execution_count": 32,
   "id": "11c93771",
   "metadata": {},
   "outputs": [
    {
     "data": {
      "text/plain": [
       "17"
      ]
     },
     "execution_count": 32,
     "metadata": {},
     "output_type": "execute_result"
    }
   ],
   "source": [
    "# 1. Determine the number of elements in fruits.\n",
    "fruits.size"
   ]
  },
  {
   "cell_type": "code",
   "execution_count": 34,
   "id": "3c901388",
   "metadata": {},
   "outputs": [
    {
     "data": {
      "text/plain": [
       "17"
      ]
     },
     "execution_count": 34,
     "metadata": {},
     "output_type": "execute_result"
    }
   ],
   "source": [
    "fruits.shape\n",
    "len(fruits)"
   ]
  },
  {
   "cell_type": "code",
   "execution_count": 7,
   "id": "29c6316f",
   "metadata": {},
   "outputs": [
    {
     "data": {
      "text/plain": [
       "RangeIndex(start=0, stop=17, step=1)"
      ]
     },
     "execution_count": 7,
     "metadata": {},
     "output_type": "execute_result"
    }
   ],
   "source": [
    "# 2. Output only the index from fruits.\n",
    "fruits.index"
   ]
  },
  {
   "cell_type": "code",
   "execution_count": 35,
   "id": "9b82fc17",
   "metadata": {},
   "outputs": [
    {
     "data": {
      "text/plain": [
       "[0, 1, 2, 3, 4, 5, 6, 7, 8, 9, 10, 11, 12, 13, 14, 15, 16]"
      ]
     },
     "execution_count": 35,
     "metadata": {},
     "output_type": "execute_result"
    }
   ],
   "source": [
    "fruits.index.tolist()"
   ]
  },
  {
   "cell_type": "code",
   "execution_count": 8,
   "id": "d4f67633",
   "metadata": {},
   "outputs": [
    {
     "data": {
      "text/plain": [
       "array(['kiwi', 'mango', 'strawberry', 'pineapple', 'gala apple',\n",
       "       'honeycrisp apple', 'tomato', 'watermelon', 'honeydew', 'kiwi',\n",
       "       'kiwi', 'kiwi', 'mango', 'blueberry', 'blackberry', 'gooseberry',\n",
       "       'papaya'], dtype=object)"
      ]
     },
     "execution_count": 8,
     "metadata": {},
     "output_type": "execute_result"
    }
   ],
   "source": [
    "# 3. Output only the values from fruits.\n",
    "fruits.values"
   ]
  },
  {
   "cell_type": "code",
   "execution_count": 36,
   "id": "c846861f",
   "metadata": {},
   "outputs": [
    {
     "data": {
      "text/plain": [
       "['kiwi',\n",
       " 'mango',\n",
       " 'strawberry',\n",
       " 'pineapple',\n",
       " 'gala apple',\n",
       " 'honeycrisp apple',\n",
       " 'tomato',\n",
       " 'watermelon',\n",
       " 'honeydew',\n",
       " 'kiwi',\n",
       " 'kiwi',\n",
       " 'kiwi',\n",
       " 'mango',\n",
       " 'blueberry',\n",
       " 'blackberry',\n",
       " 'gooseberry',\n",
       " 'papaya']"
      ]
     },
     "execution_count": 36,
     "metadata": {},
     "output_type": "execute_result"
    }
   ],
   "source": [
    "fruits.values.tolist() # wraps it up in a list"
   ]
  },
  {
   "cell_type": "code",
   "execution_count": 9,
   "id": "628369d1",
   "metadata": {},
   "outputs": [
    {
     "data": {
      "text/plain": [
       "dtype('O')"
      ]
     },
     "execution_count": 9,
     "metadata": {},
     "output_type": "execute_result"
    }
   ],
   "source": [
    "# 4. Confirm the data type of the values in fruits.\n",
    "fruits.dtype\n",
    "# dtype('0') means (python) objects"
   ]
  },
  {
   "cell_type": "code",
   "execution_count": 13,
   "id": "0122e57a",
   "metadata": {},
   "outputs": [
    {
     "data": {
      "text/plain": [
       "3    pineapple\n",
       "8     honeydew\n",
       "dtype: object"
      ]
     },
     "execution_count": 13,
     "metadata": {},
     "output_type": "execute_result"
    }
   ],
   "source": [
    "# 5. Output only the first five values from fruits. \n",
    "#    Output the last three values. \n",
    "#    Output two random values from fruits.\n",
    "fruits.head(5)\n",
    "fruits.tail(3)\n",
    "fruits.sample(2)"
   ]
  },
  {
   "cell_type": "code",
   "execution_count": 37,
   "id": "80c12581",
   "metadata": {},
   "outputs": [
    {
     "data": {
      "text/plain": [
       "0          kiwi\n",
       "1         mango\n",
       "2    strawberry\n",
       "3     pineapple\n",
       "4    gala apple\n",
       "dtype: object"
      ]
     },
     "execution_count": 37,
     "metadata": {},
     "output_type": "execute_result"
    }
   ],
   "source": [
    "fruits.head() # by default its 5"
   ]
  },
  {
   "cell_type": "code",
   "execution_count": 19,
   "id": "309808d2",
   "metadata": {},
   "outputs": [
    {
     "data": {
      "text/plain": [
       "count       17\n",
       "unique      13\n",
       "top       kiwi\n",
       "freq         4\n",
       "dtype: object"
      ]
     },
     "execution_count": 19,
     "metadata": {},
     "output_type": "execute_result"
    }
   ],
   "source": [
    "# 6. Run the .describe() on fruits to see what information it returns when called on a Series with string values.\n",
    "fruits.describe\n",
    "fruits.describe()"
   ]
  },
  {
   "cell_type": "code",
   "execution_count": 20,
   "id": "9e05e515",
   "metadata": {
    "scrolled": true
   },
   "outputs": [
    {
     "data": {
      "text/plain": [
       "kiwi                4\n",
       "mango               2\n",
       "gooseberry          1\n",
       "tomato              1\n",
       "honeycrisp apple    1\n",
       "watermelon          1\n",
       "honeydew            1\n",
       "papaya              1\n",
       "gala apple          1\n",
       "pineapple           1\n",
       "blueberry           1\n",
       "strawberry          1\n",
       "blackberry          1\n",
       "dtype: int64"
      ]
     },
     "execution_count": 20,
     "metadata": {},
     "output_type": "execute_result"
    }
   ],
   "source": [
    "# 7. Run the code necessary to produce only the unique string values from fruits.\n",
    "fruits.value_counts()"
   ]
  },
  {
   "cell_type": "code",
   "execution_count": 40,
   "id": "88639392",
   "metadata": {},
   "outputs": [
    {
     "data": {
      "text/plain": [
       "13"
      ]
     },
     "execution_count": 40,
     "metadata": {},
     "output_type": "execute_result"
    }
   ],
   "source": [
    "fruits.unique() # Unique values\n",
    "fruits.unique().tolist()\n",
    "fruits.nunique() # number of unique values"
   ]
  },
  {
   "cell_type": "code",
   "execution_count": 21,
   "id": "1ec15f97",
   "metadata": {},
   "outputs": [
    {
     "data": {
      "text/plain": [
       "kiwi                4\n",
       "mango               2\n",
       "gooseberry          1\n",
       "tomato              1\n",
       "honeycrisp apple    1\n",
       "watermelon          1\n",
       "honeydew            1\n",
       "papaya              1\n",
       "gala apple          1\n",
       "pineapple           1\n",
       "blueberry           1\n",
       "strawberry          1\n",
       "blackberry          1\n",
       "dtype: int64"
      ]
     },
     "execution_count": 21,
     "metadata": {},
     "output_type": "execute_result"
    }
   ],
   "source": [
    "# 8. Determine how many times each unique string value occurs in fruits.\n",
    "fruits.value_counts()"
   ]
  },
  {
   "cell_type": "code",
   "execution_count": 30,
   "id": "032dc85d",
   "metadata": {},
   "outputs": [
    {
     "data": {
      "text/plain": [
       "4"
      ]
     },
     "execution_count": 30,
     "metadata": {},
     "output_type": "execute_result"
    }
   ],
   "source": [
    "# 9. Determine the string value that occurs most frequently in fruits.\n",
    "max(fruits.value_counts())"
   ]
  },
  {
   "cell_type": "code",
   "execution_count": 41,
   "id": "704f5e6b",
   "metadata": {},
   "outputs": [
    {
     "data": {
      "text/plain": [
       "kiwi    4\n",
       "dtype: int64"
      ]
     },
     "execution_count": 41,
     "metadata": {},
     "output_type": "execute_result"
    }
   ],
   "source": [
    "fruits.value_counts().head(1)"
   ]
  },
  {
   "cell_type": "code",
   "execution_count": 44,
   "id": "40242a9d",
   "metadata": {},
   "outputs": [
    {
     "data": {
      "text/plain": [
       "'kiwi'"
      ]
     },
     "execution_count": 44,
     "metadata": {},
     "output_type": "execute_result"
    }
   ],
   "source": [
    "fruits.value_counts().idxmax()"
   ]
  },
  {
   "cell_type": "code",
   "execution_count": 45,
   "id": "cd2ed71c",
   "metadata": {},
   "outputs": [
    {
     "data": {
      "text/plain": [
       "kiwi    4\n",
       "dtype: int64"
      ]
     },
     "execution_count": 45,
     "metadata": {},
     "output_type": "execute_result"
    }
   ],
   "source": [
    "fruits.value_counts().nlargest(n=1, keep='all')"
   ]
  },
  {
   "cell_type": "code",
   "execution_count": 31,
   "id": "f4f224a7",
   "metadata": {},
   "outputs": [
    {
     "data": {
      "text/plain": [
       "1"
      ]
     },
     "execution_count": 31,
     "metadata": {},
     "output_type": "execute_result"
    }
   ],
   "source": [
    "# 10. Determine the string value that occurs least frequently in fruits.\n",
    "min(fruits.value_counts())"
   ]
  },
  {
   "cell_type": "code",
   "execution_count": 46,
   "id": "59c76c91",
   "metadata": {},
   "outputs": [
    {
     "data": {
      "text/plain": [
       "gooseberry          1\n",
       "tomato              1\n",
       "honeycrisp apple    1\n",
       "watermelon          1\n",
       "honeydew            1\n",
       "papaya              1\n",
       "gala apple          1\n",
       "pineapple           1\n",
       "blueberry           1\n",
       "strawberry          1\n",
       "blackberry          1\n",
       "dtype: int64"
      ]
     },
     "execution_count": 46,
     "metadata": {},
     "output_type": "execute_result"
    }
   ],
   "source": [
    "fruits.value_counts().tail(11) # lists the least 11"
   ]
  },
  {
   "cell_type": "code",
   "execution_count": 47,
   "id": "661c870a",
   "metadata": {},
   "outputs": [
    {
     "data": {
      "text/plain": [
       "gooseberry          1\n",
       "tomato              1\n",
       "honeycrisp apple    1\n",
       "watermelon          1\n",
       "honeydew            1\n",
       "papaya              1\n",
       "gala apple          1\n",
       "pineapple           1\n",
       "blueberry           1\n",
       "strawberry          1\n",
       "blackberry          1\n",
       "dtype: int64"
      ]
     },
     "execution_count": 47,
     "metadata": {},
     "output_type": "execute_result"
    }
   ],
   "source": [
    "fruits.value_counts().nsmallest(n=1, keep='all') # n = number of rows to return pandas.dataframe.nlargest 'all' do not drop any duplicates, even if it means selecting more than one row. "
   ]
  },
  {
   "cell_type": "code",
   "execution_count": null,
   "id": "17bb8ee0",
   "metadata": {},
   "outputs": [],
   "source": []
  }
 ],
 "metadata": {
  "kernelspec": {
   "display_name": "Python 3",
   "language": "python",
   "name": "python3"
  },
  "language_info": {
   "codemirror_mode": {
    "name": "ipython",
    "version": 3
   },
   "file_extension": ".py",
   "mimetype": "text/x-python",
   "name": "python",
   "nbconvert_exporter": "python",
   "pygments_lexer": "ipython3",
   "version": "3.8.8"
  }
 },
 "nbformat": 4,
 "nbformat_minor": 5
}
